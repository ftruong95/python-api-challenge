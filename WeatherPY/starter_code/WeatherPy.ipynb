{
 "cells": [
  {
   "cell_type": "markdown",
   "metadata": {},
   "source": [
    "# WeatherPy\n",
    "----\n",
    "\n",
    "#### Note\n",
    "* Instructions have been included for each segment. You do not have to follow them exactly, but they are included to help you think through the steps."
   ]
  },
  {
   "cell_type": "code",
   "execution_count": 1,
   "metadata": {},
   "outputs": [
    {
     "name": "stdout",
     "output_type": "stream",
     "text": [
      "Requirement already satisfied: citipy in c:\\users\\franklin troung\\anaconda3\\lib\\site-packages (0.0.5)\n",
      "Requirement already satisfied: kdtree>=0.12 in c:\\users\\franklin troung\\anaconda3\\lib\\site-packages (from citipy) (0.16)\n"
     ]
    }
   ],
   "source": [
    "!pip install citipy"
   ]
  },
  {
   "cell_type": "code",
   "execution_count": 2,
   "metadata": {
    "scrolled": true
   },
   "outputs": [],
   "source": [
    "# Dependencies and Setup\n",
    "import matplotlib.pyplot as plt\n",
    "import pandas as pd\n",
    "import numpy as np\n",
    "import requests\n",
    "import time\n",
    "from scipy.stats import linregress\n",
    "\n",
    "# Import API key\n",
    "from api_keys import weather_api_key\n",
    "\n",
    "# Incorporated citipy to determine city based on latitude and longitude\n",
    "from citipy import citipy\n",
    "\n",
    "# Output File (CSV)\n",
    "output_data_file = \"output_data/cities.csv\"\n",
    "\n",
    "# Range of latitudes and longitudes\n",
    "lat_range = (-90, 90)\n",
    "lng_range = (-180, 180)"
   ]
  },
  {
   "cell_type": "markdown",
   "metadata": {},
   "source": [
    "## Generate Cities List"
   ]
  },
  {
   "cell_type": "code",
   "execution_count": 3,
   "metadata": {},
   "outputs": [
    {
     "data": {
      "text/plain": [
       "613"
      ]
     },
     "execution_count": 3,
     "metadata": {},
     "output_type": "execute_result"
    }
   ],
   "source": [
    "# List for holding lat_lngs and cities\n",
    "lat_lngs = []\n",
    "cities = []\n",
    "\n",
    "# Create a set of random lat and lng combinations\n",
    "lats = np.random.uniform(lat_range[0], lat_range[1], size=1500)\n",
    "lngs = np.random.uniform(lng_range[0], lng_range[1], size=1500)\n",
    "lat_lngs = zip(lats, lngs)\n",
    "\n",
    "# Identify nearest city for each lat, lng combination\n",
    "for lat_lng in lat_lngs:\n",
    "    city = citipy.nearest_city(lat_lng[0], lat_lng[1]).city_name\n",
    "    \n",
    "    # If the city is unique, then add it to a our cities list\n",
    "    if city not in cities:\n",
    "        cities.append(city)\n",
    "\n",
    "# Print the city count to confirm sufficient count\n",
    "len(cities)"
   ]
  },
  {
   "cell_type": "markdown",
   "metadata": {},
   "source": [
    "### Perform API Calls\n",
    "* Perform a weather check on each city using a series of successive API calls.\n",
    "* Include a print log of each city as it'sbeing processed (with the city number and city name).\n"
   ]
  },
  {
   "cell_type": "code",
   "execution_count": 4,
   "metadata": {},
   "outputs": [
    {
     "name": "stdout",
     "output_type": "stream",
     "text": [
      "Data Retrieval Initiated\n",
      "________________________\n",
      "Processing Record 1 of set 1|rikitea\n",
      "Processing Record 2 of set 1|hobart\n",
      "Processing Record 3 of set 1|tiksi\n",
      "Processing Record 4 of set 1|quatre cocos\n",
      "Processing Record 5 of set 1|busselton\n",
      "Processing Record 6 of set 1|lanzhou\n",
      "Processing Record 7 of set 1|mahebourg\n",
      "Processing Record 8 of set 1|bow island\n",
      "Processing Record 9 of set 1|sorong\n",
      "City not found, Moving on... \n",
      "Processing Record 10 of set 1|port alfred\n",
      "Processing Record 11 of set 1|bethel\n",
      "Processing Record 12 of set 1|hilo\n",
      "Processing Record 13 of set 1|port lincoln\n",
      "Processing Record 14 of set 1|hobyo\n",
      "Processing Record 15 of set 1|tasiilaq\n",
      "Processing Record 16 of set 1|port elizabeth\n",
      "Processing Record 17 of set 1|omboue\n",
      "Processing Record 18 of set 1|lorengau\n",
      "Processing Record 19 of set 1|castro\n",
      "Processing Record 20 of set 1|sao joao da barra\n",
      "Processing Record 21 of set 1|vaini\n",
      "Processing Record 22 of set 1|saint-joseph\n",
      "Processing Record 23 of set 1|yadgir\n",
      "Processing Record 24 of set 1|katsuura\n",
      "Processing Record 25 of set 1|saint-philippe\n",
      "Processing Record 26 of set 1|albany\n",
      "Processing Record 27 of set 1|kaitangata\n",
      "City not found, Moving on... \n",
      "Processing Record 28 of set 1|biarritz\n",
      "Processing Record 29 of set 1|beringovskiy\n",
      "Processing Record 30 of set 1|butaritari\n",
      "Processing Record 31 of set 1|challapata\n",
      "Processing Record 32 of set 1|east london\n",
      "City not found, Moving on... \n",
      "Processing Record 33 of set 1|barbastro\n",
      "Processing Record 34 of set 1|catuday\n",
      "Processing Record 35 of set 1|ponta do sol\n",
      "Processing Record 36 of set 1|mataura\n",
      "Processing Record 37 of set 1|lubao\n",
      "Processing Record 38 of set 1|inhambane\n",
      "Processing Record 39 of set 1|kruisfontein\n",
      "Processing Record 40 of set 1|cherskiy\n",
      "Processing Record 41 of set 1|kapaa\n",
      "Processing Record 42 of set 1|aklavik\n",
      "Processing Record 43 of set 1|new norfolk\n",
      "Processing Record 44 of set 1|ixtapa\n",
      "Processing Record 45 of set 1|vuktyl\n",
      "Processing Record 46 of set 1|punta arenas\n",
      "Processing Record 47 of set 1|moranbah\n",
      "Processing Record 48 of set 1|avarua\n",
      "Processing Record 49 of set 1|rome\n",
      "Processing Record 50 of set 1|nikolskoye\n",
      "Processing Record 1 of set 2|saldanha\n",
      "City not found, Moving on... \n",
      "Processing Record 2 of set 2|carnarvon\n",
      "Processing Record 3 of set 2|digby\n",
      "Processing Record 4 of set 2|ushuaia\n",
      "City not found, Moving on... \n",
      "Processing Record 5 of set 2|trinidad\n",
      "City not found, Moving on... \n",
      "Processing Record 6 of set 2|airai\n",
      "Processing Record 7 of set 2|qaanaaq\n",
      "Processing Record 8 of set 2|hermanus\n",
      "Processing Record 9 of set 2|chuy\n",
      "Processing Record 10 of set 2|aleksandrovsk-sakhalinskiy\n",
      "Processing Record 11 of set 2|nsanje\n",
      "Processing Record 12 of set 2|grand gaube\n",
      "Processing Record 13 of set 2|bluff\n",
      "City not found, Moving on... \n",
      "City not found, Moving on... \n",
      "Processing Record 14 of set 2|ust-omchug\n",
      "Processing Record 15 of set 2|fairbanks\n",
      "Processing Record 16 of set 2|kuryk\n",
      "Processing Record 17 of set 2|lagoa\n",
      "Processing Record 18 of set 2|upernavik\n",
      "City not found, Moving on... \n",
      "Processing Record 19 of set 2|saskylakh\n",
      "Processing Record 20 of set 2|nabire\n",
      "Processing Record 21 of set 2|hithadhoo\n",
      "Processing Record 22 of set 2|husavik\n",
      "Processing Record 23 of set 2|cape town\n",
      "Processing Record 24 of set 2|huilong\n",
      "Processing Record 25 of set 2|norman wells\n",
      "Processing Record 26 of set 2|bratsk\n",
      "Processing Record 27 of set 2|bredasdorp\n",
      "Processing Record 28 of set 2|dikson\n",
      "Processing Record 29 of set 2|ola\n",
      "Processing Record 30 of set 2|esperance\n",
      "Processing Record 31 of set 2|cayenne\n",
      "Processing Record 32 of set 2|moose factory\n",
      "Processing Record 33 of set 2|souillac\n",
      "Processing Record 34 of set 2|thompson\n",
      "Processing Record 35 of set 2|zalantun\n",
      "Processing Record 36 of set 2|cabedelo\n",
      "Processing Record 37 of set 2|port augusta\n",
      "Processing Record 38 of set 2|tessalit\n",
      "Processing Record 39 of set 2|antalaha\n",
      "Processing Record 40 of set 2|tezu\n",
      "Processing Record 41 of set 2|omsukchan\n",
      "Processing Record 42 of set 2|ewa beach\n",
      "Processing Record 43 of set 2|komsomolskiy\n",
      "City not found, Moving on... \n",
      "Processing Record 44 of set 2|tuy hoa\n",
      "Processing Record 45 of set 2|sekoma\n",
      "Processing Record 46 of set 2|shamary\n",
      "Processing Record 47 of set 2|atuona\n",
      "Processing Record 48 of set 2|mogadishu\n",
      "Processing Record 49 of set 2|longyearbyen\n",
      "Processing Record 50 of set 2|margate\n",
      "Processing Record 1 of set 3|san policarpo\n",
      "Processing Record 2 of set 3|port hardy\n",
      "Processing Record 3 of set 3|touros\n",
      "Processing Record 4 of set 3|innisfail\n",
      "Processing Record 5 of set 3|tuktoyaktuk\n",
      "Processing Record 6 of set 3|hovd\n",
      "Processing Record 7 of set 3|salinopolis\n",
      "City not found, Moving on... \n",
      "Processing Record 8 of set 3|san cristobal\n",
      "Processing Record 9 of set 3|shanghai\n",
      "Processing Record 10 of set 3|kawalu\n",
      "Processing Record 11 of set 3|samana\n",
      "Processing Record 12 of set 3|kloulklubed\n",
      "Processing Record 13 of set 3|sitka\n",
      "Processing Record 14 of set 3|faanui\n",
      "Processing Record 15 of set 3|puerto ayora\n",
      "Processing Record 16 of set 3|vardo\n",
      "Processing Record 17 of set 3|los llanos de aridane\n",
      "Processing Record 18 of set 3|adre\n",
      "Processing Record 19 of set 3|jamestown\n",
      "Processing Record 20 of set 3|phan thiet\n",
      "Processing Record 21 of set 3|gold coast\n",
      "Processing Record 22 of set 3|arraial do cabo\n",
      "Processing Record 23 of set 3|torbay\n",
      "Processing Record 24 of set 3|pevek\n",
      "Processing Record 25 of set 3|barrow\n",
      "Processing Record 26 of set 3|moron\n",
      "Processing Record 27 of set 3|wasilla\n",
      "Processing Record 28 of set 3|severo-kurilsk\n",
      "Processing Record 29 of set 3|conde\n",
      "Processing Record 30 of set 3|te anau\n",
      "Processing Record 31 of set 3|mar del plata\n",
      "City not found, Moving on... \n",
      "Processing Record 32 of set 3|bathsheba\n",
      "City not found, Moving on... \n",
      "Processing Record 33 of set 3|kavieng\n",
      "City not found, Moving on... \n",
      "City not found, Moving on... \n",
      "Processing Record 34 of set 3|okha\n",
      "Processing Record 35 of set 3|salalah\n",
      "Processing Record 36 of set 3|zhigansk\n",
      "City not found, Moving on... \n",
      "Processing Record 37 of set 3|zabaykalsk\n",
      "Processing Record 38 of set 3|ambovombe\n",
      "Processing Record 39 of set 3|mangrol\n",
      "Processing Record 40 of set 3|caravelas\n",
      "Processing Record 41 of set 3|gamba\n",
      "Processing Record 42 of set 3|santa rosa\n",
      "Processing Record 43 of set 3|merauke\n",
      "Processing Record 44 of set 3|verkhovazhye\n",
      "Processing Record 45 of set 3|talnakh\n",
      "Processing Record 46 of set 3|gimli\n",
      "Processing Record 47 of set 3|narsaq\n",
      "Processing Record 48 of set 3|yellowknife\n",
      "City not found, Moving on... \n",
      "Processing Record 49 of set 3|daru\n",
      "Processing Record 50 of set 3|pisco\n",
      "Processing Record 1 of set 4|male\n",
      "Processing Record 2 of set 4|harper\n",
      "Processing Record 3 of set 4|alofi\n",
      "Processing Record 4 of set 4|isangel\n",
      "Processing Record 5 of set 4|coquimbo\n",
      "Processing Record 6 of set 4|provideniya\n",
      "Processing Record 7 of set 4|haines junction\n",
      "Processing Record 8 of set 4|shubarshi\n",
      "Processing Record 9 of set 4|lompoc\n",
      "Processing Record 10 of set 4|cidreira\n",
      "Processing Record 11 of set 4|sept-iles\n",
      "Processing Record 12 of set 4|henties bay\n",
      "Processing Record 13 of set 4|castelo do piaui\n",
      "Processing Record 14 of set 4|college\n",
      "Processing Record 15 of set 4|chapais\n",
      "Processing Record 16 of set 4|teofilo otoni\n",
      "Processing Record 17 of set 4|viedma\n",
      "City not found, Moving on... \n",
      "Processing Record 18 of set 4|luan\n",
      "Processing Record 19 of set 4|port-gentil\n",
      "Processing Record 20 of set 4|vila velha\n",
      "Processing Record 21 of set 4|puerto del rosario\n",
      "Processing Record 22 of set 4|pangai\n",
      "City not found, Moving on... \n",
      "Processing Record 23 of set 4|acapulco\n",
      "Processing Record 24 of set 4|faya\n",
      "Processing Record 25 of set 4|havelock\n",
      "Processing Record 26 of set 4|guerrero negro\n",
      "Processing Record 27 of set 4|sisimiut\n",
      "Processing Record 28 of set 4|elat\n",
      "Processing Record 29 of set 4|saryagash\n",
      "Processing Record 30 of set 4|bengkulu\n",
      "Processing Record 31 of set 4|chokurdakh\n",
      "Processing Record 32 of set 4|luderitz\n",
      "Processing Record 33 of set 4|northampton\n",
      "City not found, Moving on... \n",
      "Processing Record 34 of set 4|banjar\n",
      "Processing Record 35 of set 4|laguna\n",
      "Processing Record 36 of set 4|vasto\n",
      "Processing Record 37 of set 4|namibe\n",
      "Processing Record 38 of set 4|shar\n",
      "Processing Record 39 of set 4|tlacolula\n",
      "Processing Record 40 of set 4|guiglo\n",
      "Processing Record 41 of set 4|kifri\n",
      "Processing Record 42 of set 4|belyy yar\n",
      "Processing Record 43 of set 4|jackson\n"
     ]
    },
    {
     "name": "stdout",
     "output_type": "stream",
     "text": [
      "Processing Record 44 of set 4|saint anthony\n",
      "Processing Record 45 of set 4|bandarbeyla\n",
      "Processing Record 46 of set 4|lebu\n",
      "Processing Record 47 of set 4|geraldton\n",
      "Processing Record 48 of set 4|zemio\n",
      "Processing Record 49 of set 4|la seyne-sur-mer\n",
      "Processing Record 50 of set 4|tulua\n",
      "Processing Record 1 of set 5|nouadhibou\n",
      "Processing Record 2 of set 5|boda\n",
      "Processing Record 3 of set 5|kijang\n",
      "Processing Record 4 of set 5|georgetown\n",
      "Processing Record 5 of set 5|klaksvik\n",
      "City not found, Moving on... \n",
      "Processing Record 6 of set 5|meulaboh\n",
      "Processing Record 7 of set 5|tuatapere\n",
      "Processing Record 8 of set 5|codrington\n",
      "City not found, Moving on... \n",
      "Processing Record 9 of set 5|fortuna\n",
      "Processing Record 10 of set 5|victoria\n",
      "Processing Record 11 of set 5|hamilton\n",
      "Processing Record 12 of set 5|nieuwpoort\n",
      "Processing Record 13 of set 5|khatanga\n",
      "Processing Record 14 of set 5|grand-santi\n",
      "Processing Record 15 of set 5|gazli\n",
      "Processing Record 16 of set 5|rafaela\n",
      "Processing Record 17 of set 5|osoyoos\n",
      "Processing Record 18 of set 5|puerto escondido\n",
      "Processing Record 19 of set 5|eirunepe\n",
      "Processing Record 20 of set 5|arman\n",
      "Processing Record 21 of set 5|erenhot\n",
      "Processing Record 22 of set 5|vestmanna\n",
      "Processing Record 23 of set 5|raudeberg\n",
      "Processing Record 24 of set 5|aitape\n",
      "Processing Record 25 of set 5|nome\n",
      "Processing Record 26 of set 5|the pas\n",
      "Processing Record 27 of set 5|ardakan\n",
      "Processing Record 28 of set 5|karabuk\n",
      "Processing Record 29 of set 5|goundam\n",
      "Processing Record 30 of set 5|hasaki\n",
      "Processing Record 31 of set 5|dingle\n",
      "Processing Record 32 of set 5|aginskoye\n",
      "Processing Record 33 of set 5|la rioja\n",
      "City not found, Moving on... \n",
      "Processing Record 34 of set 5|batemans bay\n",
      "Processing Record 35 of set 5|myrtle beach\n",
      "Processing Record 36 of set 5|port macquarie\n",
      "Processing Record 37 of set 5|umm lajj\n",
      "City not found, Moving on... \n",
      "City not found, Moving on... \n",
      "City not found, Moving on... \n",
      "Processing Record 38 of set 5|ketchikan\n",
      "Processing Record 39 of set 5|oktyabrskiy\n",
      "Processing Record 40 of set 5|boissevain\n",
      "Processing Record 41 of set 5|greeneville\n",
      "Processing Record 42 of set 5|bambous virieux\n",
      "Processing Record 43 of set 5|najran\n",
      "Processing Record 44 of set 5|flinders\n",
      "Processing Record 45 of set 5|pangnirtung\n",
      "Processing Record 46 of set 5|hervey bay\n",
      "Processing Record 47 of set 5|togur\n",
      "Processing Record 48 of set 5|victor harbor\n",
      "Processing Record 49 of set 5|la ronge\n",
      "Processing Record 50 of set 5|talara\n",
      "Processing Record 1 of set 6|birin\n",
      "Processing Record 2 of set 6|ocampo\n",
      "Processing Record 3 of set 6|basavakalyan\n",
      "Processing Record 4 of set 6|port hedland\n",
      "Processing Record 5 of set 6|miles city\n",
      "Processing Record 6 of set 6|nago\n",
      "Processing Record 7 of set 6|san carlos de bariloche\n",
      "Processing Record 8 of set 6|cumberland\n",
      "Processing Record 9 of set 6|saint-francois\n",
      "Processing Record 10 of set 6|kindia\n",
      "Processing Record 11 of set 6|parati\n",
      "Processing Record 12 of set 6|ripky\n",
      "Processing Record 13 of set 6|comodoro rivadavia\n",
      "Processing Record 14 of set 6|kenai\n",
      "City not found, Moving on... \n",
      "Processing Record 15 of set 6|curico\n",
      "Processing Record 16 of set 6|brae\n",
      "Processing Record 17 of set 6|shimoda\n",
      "Processing Record 18 of set 6|giyani\n",
      "Processing Record 19 of set 6|carballo\n",
      "Processing Record 20 of set 6|biu\n",
      "Processing Record 21 of set 6|sao filipe\n",
      "Processing Record 22 of set 6|velvary\n",
      "City not found, Moving on... \n",
      "Processing Record 23 of set 6|anadyr\n",
      "Processing Record 24 of set 6|avera\n",
      "Processing Record 25 of set 6|port said\n",
      "Processing Record 26 of set 6|honolulu\n",
      "Processing Record 27 of set 6|yueyang\n",
      "Processing Record 28 of set 6|north bend\n",
      "Processing Record 29 of set 6|zhangzhou\n",
      "Processing Record 30 of set 6|minsk\n",
      "Processing Record 31 of set 6|athens\n",
      "Processing Record 32 of set 6|leshukonskoye\n",
      "Processing Record 33 of set 6|wagar\n",
      "Processing Record 34 of set 6|tonantins\n",
      "Processing Record 35 of set 6|saint-avertin\n",
      "Processing Record 36 of set 6|half moon bay\n",
      "Processing Record 37 of set 6|tokur\n",
      "Processing Record 38 of set 6|wucheng\n",
      "Processing Record 39 of set 6|isla mujeres\n",
      "Processing Record 40 of set 6|jiuquan\n",
      "Processing Record 41 of set 6|keti bandar\n",
      "Processing Record 42 of set 6|oranjestad\n",
      "Processing Record 43 of set 6|natal\n",
      "Processing Record 44 of set 6|lazaro cardenas\n",
      "Processing Record 45 of set 6|gunjur\n",
      "Processing Record 46 of set 6|dunedin\n",
      "Processing Record 47 of set 6|makokou\n",
      "Processing Record 48 of set 6|nevelsk\n",
      "Processing Record 49 of set 6|san quintin\n",
      "Processing Record 50 of set 6|hualmay\n",
      "Processing Record 1 of set 7|buta\n",
      "Processing Record 2 of set 7|elizabeth city\n",
      "Processing Record 3 of set 7|shiringushi\n",
      "Processing Record 4 of set 7|nantucket\n",
      "Processing Record 5 of set 7|bang saphan\n",
      "City not found, Moving on... \n",
      "Processing Record 6 of set 7|beloha\n",
      "Processing Record 7 of set 7|bulgan\n",
      "Processing Record 8 of set 7|kodiak\n",
      "Processing Record 9 of set 7|olhao\n",
      "Processing Record 10 of set 7|hays\n",
      "Processing Record 11 of set 7|westport\n",
      "Processing Record 12 of set 7|bairiki\n",
      "Processing Record 13 of set 7|olinda\n",
      "Processing Record 14 of set 7|nara\n",
      "Processing Record 15 of set 7|aksay\n",
      "Processing Record 16 of set 7|alta floresta\n",
      "Processing Record 17 of set 7|soyo\n",
      "Processing Record 18 of set 7|olafsvik\n",
      "Processing Record 19 of set 7|dehloran\n",
      "Processing Record 20 of set 7|kudahuvadhoo\n",
      "Processing Record 21 of set 7|khandyga\n",
      "Processing Record 22 of set 7|alice springs\n",
      "Processing Record 23 of set 7|funadhoo\n",
      "Processing Record 24 of set 7|ganjam\n",
      "Processing Record 25 of set 7|markova\n",
      "City not found, Moving on... \n",
      "Processing Record 26 of set 7|ilulissat\n",
      "Processing Record 27 of set 7|sorland\n",
      "Processing Record 28 of set 7|mount gambier\n",
      "Processing Record 29 of set 7|cazones\n",
      "Processing Record 30 of set 7|norilsk\n",
      "Processing Record 31 of set 7|hambantota\n",
      "Processing Record 32 of set 7|imbituba\n",
      "Processing Record 33 of set 7|yumen\n",
      "Processing Record 34 of set 7|tadine\n",
      "Processing Record 35 of set 7|sangerhausen\n",
      "Processing Record 36 of set 7|kembaran\n",
      "Processing Record 37 of set 7|taltal\n",
      "Processing Record 38 of set 7|saint-pierre\n",
      "Processing Record 39 of set 7|fukue\n",
      "Processing Record 40 of set 7|okato\n",
      "Processing Record 41 of set 7|palora\n",
      "Processing Record 42 of set 7|bonavista\n",
      "Processing Record 43 of set 7|alyangula\n",
      "Processing Record 44 of set 7|ingham\n",
      "Processing Record 45 of set 7|clyde river\n",
      "Processing Record 46 of set 7|savinka\n",
      "Processing Record 47 of set 7|namatanai\n",
      "Processing Record 48 of set 7|ballina\n",
      "Processing Record 49 of set 7|langarud\n",
      "Processing Record 50 of set 7|aykhal\n",
      "Processing Record 1 of set 8|ostrovnoy\n",
      "Processing Record 2 of set 8|dawei\n",
      "Processing Record 3 of set 8|aswan\n",
      "Processing Record 4 of set 8|flin flon\n",
      "Processing Record 5 of set 8|luganville\n",
      "Processing Record 6 of set 8|labuhan\n",
      "Processing Record 7 of set 8|atambua\n",
      "Processing Record 8 of set 8|broome\n",
      "Processing Record 9 of set 8|manavgat\n",
      "Processing Record 10 of set 8|erzin\n",
      "Processing Record 11 of set 8|dzilam gonzalez\n",
      "City not found, Moving on... \n",
      "Processing Record 12 of set 8|tres passos\n",
      "Processing Record 13 of set 8|razole\n",
      "Processing Record 14 of set 8|kondinskoye\n",
      "Processing Record 15 of set 8|samarai\n",
      "City not found, Moving on... \n",
      "Processing Record 16 of set 8|lasa\n",
      "Processing Record 17 of set 8|muzhi\n",
      "Processing Record 18 of set 8|constantine\n",
      "Processing Record 19 of set 8|mayo\n",
      "Processing Record 20 of set 8|kefamenanu\n",
      "Processing Record 21 of set 8|walvis bay\n",
      "Processing Record 22 of set 8|paamiut\n",
      "Processing Record 23 of set 8|tateyama\n",
      "Processing Record 24 of set 8|visnes\n",
      "Processing Record 25 of set 8|maragogi\n",
      "Processing Record 26 of set 8|waddan\n",
      "Processing Record 27 of set 8|marawi\n",
      "Processing Record 28 of set 8|morales\n",
      "Processing Record 29 of set 8|san angelo\n",
      "Processing Record 30 of set 8|kaniama\n",
      "Processing Record 31 of set 8|koshurnikovo\n",
      "Processing Record 32 of set 8|lokosovo\n",
      "Processing Record 33 of set 8|ihosy\n",
      "Processing Record 34 of set 8|kargasok\n",
      "Processing Record 35 of set 8|san patricio\n",
      "Processing Record 36 of set 8|kahului\n",
      "Processing Record 37 of set 8|tiarei\n",
      "City not found, Moving on... \n",
      "Processing Record 38 of set 8|san luis de palenque\n",
      "Processing Record 39 of set 8|usinsk\n",
      "City not found, Moving on... \n",
      "Processing Record 40 of set 8|nanortalik\n",
      "Processing Record 41 of set 8|panama city\n",
      "Processing Record 42 of set 8|cap-aux-meules\n"
     ]
    },
    {
     "name": "stdout",
     "output_type": "stream",
     "text": [
      "Processing Record 43 of set 8|flagstaff\n",
      "Processing Record 44 of set 8|cabo san lucas\n",
      "Processing Record 45 of set 8|ahipara\n",
      "Processing Record 46 of set 8|portland\n",
      "Processing Record 47 of set 8|ilebo\n",
      "Processing Record 48 of set 8|vila franca do campo\n",
      "Processing Record 49 of set 8|zeya\n",
      "Processing Record 50 of set 8|yala\n",
      "Processing Record 1 of set 9|lavrentiya\n",
      "Processing Record 2 of set 9|gat\n",
      "City not found, Moving on... \n",
      "Processing Record 3 of set 9|hailar\n",
      "Processing Record 4 of set 9|hefei\n",
      "Processing Record 5 of set 9|dudinka\n",
      "Processing Record 6 of set 9|vanavara\n",
      "Processing Record 7 of set 9|naifaru\n",
      "Processing Record 8 of set 9|santana do livramento\n",
      "Processing Record 9 of set 9|bethanien\n",
      "Processing Record 10 of set 9|boyolangu\n",
      "Processing Record 11 of set 9|chumikan\n",
      "Processing Record 12 of set 9|taoudenni\n",
      "Processing Record 13 of set 9|kangasala\n",
      "Processing Record 14 of set 9|sayyan\n",
      "Processing Record 15 of set 9|dalvik\n",
      "City not found, Moving on... \n",
      "City not found, Moving on... \n",
      "Processing Record 16 of set 9|saint george\n",
      "Processing Record 17 of set 9|andenes\n",
      "Processing Record 18 of set 9|galesong\n",
      "City not found, Moving on... \n",
      "Processing Record 19 of set 9|constitucion\n",
      "Processing Record 20 of set 9|asau\n",
      "Processing Record 21 of set 9|ust-kulom\n",
      "City not found, Moving on... \n",
      "Processing Record 22 of set 9|egvekinot\n",
      "City not found, Moving on... \n",
      "Processing Record 23 of set 9|fairfield\n",
      "Processing Record 24 of set 9|utete\n",
      "Processing Record 25 of set 9|ituacu\n",
      "Processing Record 26 of set 9|bedesa\n",
      "Processing Record 27 of set 9|joensuu\n",
      "Processing Record 28 of set 9|ucluelet\n",
      "Processing Record 29 of set 9|aguas belas\n",
      "Processing Record 30 of set 9|matagami\n",
      "Processing Record 31 of set 9|polunochnoye\n",
      "Processing Record 32 of set 9|potosi\n",
      "Processing Record 33 of set 9|ribeira grande\n",
      "Processing Record 34 of set 9|apatity\n",
      "Processing Record 35 of set 9|kununurra\n",
      "Processing Record 36 of set 9|ust-maya\n",
      "Processing Record 37 of set 9|alamosa\n",
      "Processing Record 38 of set 9|maunabo\n",
      "Processing Record 39 of set 9|ulaangom\n",
      "Processing Record 40 of set 9|maniitsoq\n",
      "City not found, Moving on... \n",
      "Processing Record 41 of set 9|srednekolymsk\n",
      "Processing Record 42 of set 9|tilichiki\n",
      "Processing Record 43 of set 9|vestmannaeyjar\n",
      "Processing Record 44 of set 9|totma\n",
      "Processing Record 45 of set 9|yomou\n",
      "Processing Record 46 of set 9|cedar city\n",
      "Processing Record 47 of set 9|novobelokatay\n",
      "Processing Record 48 of set 9|mayna\n",
      "City not found, Moving on... \n",
      "Processing Record 49 of set 9|berbera\n",
      "Processing Record 50 of set 9|castlemaine\n",
      "Processing Record 1 of set 10|provost\n",
      "Processing Record 2 of set 10|korla\n",
      "City not found, Moving on... \n",
      "Processing Record 3 of set 10|amahai\n",
      "Processing Record 4 of set 10|traverse city\n",
      "Processing Record 5 of set 10|fernandopolis\n",
      "Processing Record 6 of set 10|ukiah\n",
      "Processing Record 7 of set 10|tefe\n",
      "Processing Record 8 of set 10|chulman\n",
      "Processing Record 9 of set 10|kendari\n",
      "Processing Record 10 of set 10|gloversville\n",
      "Processing Record 11 of set 10|saint-felicien\n",
      "Processing Record 12 of set 10|naryan-mar\n",
      "Processing Record 13 of set 10|nisia floresta\n",
      "Processing Record 14 of set 10|sangar\n",
      "Processing Record 15 of set 10|sulangan\n",
      "Processing Record 16 of set 10|jardim\n",
      "Processing Record 17 of set 10|litovko\n",
      "Processing Record 18 of set 10|lishui\n",
      "Processing Record 19 of set 10|kaeo\n",
      "Processing Record 20 of set 10|hunucma\n",
      "Processing Record 21 of set 10|sveti nikole\n",
      "Processing Record 22 of set 10|benguela\n",
      "Processing Record 23 of set 10|ouesso\n",
      "Processing Record 24 of set 10|vostok\n",
      "Processing Record 25 of set 10|hornepayne\n",
      "Processing Record 26 of set 10|mehamn\n",
      "Processing Record 27 of set 10|denpasar\n",
      "Processing Record 28 of set 10|byron bay\n",
      "Processing Record 29 of set 10|huarmey\n",
      "Processing Record 30 of set 10|namanyere\n",
      "Processing Record 31 of set 10|tazovskiy\n",
      "Processing Record 32 of set 10|krasnoselkup\n",
      "Processing Record 33 of set 10|sur\n",
      "Processing Record 34 of set 10|zabol\n",
      "Processing Record 35 of set 10|plettenberg bay\n",
      "Processing Record 36 of set 10|arcata\n",
      "Processing Record 37 of set 10|katiola\n",
      "Processing Record 38 of set 10|japura\n",
      "Processing Record 39 of set 10|buckeye\n",
      "Processing Record 40 of set 10|yulara\n",
      "Processing Record 41 of set 10|bandar-e lengeh\n",
      "Processing Record 42 of set 10|samoded\n",
      "Processing Record 43 of set 10|riyadh\n",
      "Processing Record 44 of set 10|amapa\n",
      "Processing Record 45 of set 10|taywarah\n",
      "Processing Record 46 of set 10|lubuk pakam\n",
      "Processing Record 47 of set 10|kant\n",
      "Processing Record 48 of set 10|voh\n",
      "Processing Record 49 of set 10|auki\n",
      "Processing Record 50 of set 10|ariquemes\n",
      "Processing Record 1 of set 11|edd\n",
      "Processing Record 2 of set 11|the valley\n",
      "Processing Record 3 of set 11|krasnyy kholm\n",
      "Processing Record 4 of set 11|santa\n",
      "Processing Record 5 of set 11|fort nelson\n",
      "City not found, Moving on... \n",
      "Processing Record 6 of set 11|sibolga\n",
      "Processing Record 7 of set 11|coihaique\n",
      "Processing Record 8 of set 11|lomovka\n",
      "Processing Record 9 of set 11|novikovo\n",
      "Processing Record 10 of set 11|tigil\n",
      "Processing Record 11 of set 11|waingapu\n",
      "Processing Record 12 of set 11|aksu\n",
      "Processing Record 13 of set 11|turtas\n",
      "Processing Record 14 of set 11|raahe\n",
      "City not found, Moving on... \n",
      "Processing Record 15 of set 11|karratha\n",
      "Processing Record 16 of set 11|goroka\n",
      "Processing Record 17 of set 11|qinhuangdao\n",
      "Processing Record 18 of set 11|eyl\n",
      "Processing Record 19 of set 11|nalut\n",
      "Processing Record 20 of set 11|baft\n",
      "Processing Record 21 of set 11|bor\n",
      "Processing Record 22 of set 11|nuoro\n",
      "Processing Record 23 of set 11|tooele\n",
      "Processing Record 24 of set 11|manokwari\n",
      "Processing Record 25 of set 11|kabare\n",
      "Processing Record 26 of set 11|dawson creek\n",
      "Processing Record 27 of set 11|xuddur\n",
      "Processing Record 28 of set 11|tabuk\n",
      "Processing Record 29 of set 11|carauari\n",
      "Processing Record 30 of set 11|porbandar\n",
      "Processing Record 31 of set 11|lora del rio\n",
      "Processing Record 32 of set 11|hami\n",
      "Processing Record 33 of set 11|oksfjord\n",
      "Processing Record 34 of set 11|nanfeng\n",
      "City not found, Moving on... \n",
      "Processing Record 35 of set 11|hwange\n",
      "Processing Record 36 of set 11|big bend\n",
      "Processing Record 37 of set 11|vagur\n",
      "Processing Record 38 of set 11|necochea\n",
      "Processing Record 39 of set 11|houma\n",
      "Processing Record 40 of set 11|bintulu\n",
      "Processing Record 41 of set 11|sungaipenuh\n",
      "Processing Record 42 of set 11|rongcheng\n",
      "Processing Record 43 of set 11|birjand\n",
      "Processing Record 44 of set 11|kavaratti\n",
      "Processing Record 45 of set 11|anloga\n",
      "Processing Record 46 of set 11|pedernales\n",
      "Processing Record 47 of set 11|zaysan\n",
      "Processing Record 48 of set 11|hare bay\n",
      "Processing Record 49 of set 11|neuquen\n",
      "Processing Record 50 of set 11|pervomayskoye\n",
      "Processing Record 1 of set 12|vredendal\n",
      "Processing Record 2 of set 12|pontianak\n",
      "Processing Record 3 of set 12|whyalla\n",
      "Processing Record 4 of set 12|marsh harbour\n",
      "Processing Record 5 of set 12|rocky mountain house\n",
      "Processing Record 6 of set 12|qobustan\n",
      "Processing Record 7 of set 12|longonjo\n",
      "Processing Record 8 of set 12|grindavik\n",
      "Processing Record 9 of set 12|sandane\n",
      "Processing Record 10 of set 12|bijar\n",
      "Processing Record 11 of set 12|bilibino\n",
      "Processing Record 12 of set 12|bad liebenwerda\n",
      "Processing Record 13 of set 12|iqaluit\n",
      "Processing Record 14 of set 12|puerto leguizamo\n",
      "Processing Record 15 of set 12|ambulu\n",
      "Processing Record 16 of set 12|itaituba\n",
      "City not found, Moving on... \n",
      "________________________\n",
      "Data Retrieval Completed\n",
      "________________________\n"
     ]
    }
   ],
   "source": [
    "#Base info\n",
    "x=1\n",
    "count=1\n",
    "city_df=[]\n",
    "lat=[] \n",
    "long=[]\n",
    "Max_Temp=[]\n",
    "Humidity=[]\n",
    "Cloudiness=[]\n",
    "Wind_Speed=[]\n",
    "Country=[]\n",
    "Date=[]\n",
    "\n",
    "\n",
    "url= f\"http://api.openweathermap.org/data/2.5/weather?units=Imperial&appid={weather_api_key}&q=\"\n",
    "city_responses= [ ]\n",
    "\n",
    "#Beggining Print\n",
    "print(\"Data Retrieval Initiated\")\n",
    "print(\"________________________\")\n",
    "\n",
    "#for loop to make a api request for each city. \n",
    "for city in cities:\n",
    "    if x >= 51: \n",
    "        count+= 1\n",
    "        x=1\n",
    "    try:\n",
    "        city_data=requests.get(url + city).json()\n",
    "        city_df.append(city_data['name'])\n",
    "        lat.append(city_data['coord']['lat'])\n",
    "        long.append(city_data['coord']['lon'])\n",
    "        Max_Temp.append(city_data['main']['temp_max'])\n",
    "        Humidity.append(city_data['main'][\"humidity\"])\n",
    "        Cloudiness.append(city_data[\"clouds\"]['all'])\n",
    "        Wind_Speed.append(city_data[\"wind\"]['speed'])\n",
    "        Country.append(city_data['sys']['country'])\n",
    "        Date.append(city_data['dt'])\n",
    "        city_responses.append(city_data)\n",
    "        print(f\"Processing Record {x} of set {count}|{city}\")\n",
    "        x+=1\n",
    "    except: \n",
    "        print(\"City not found, Moving on... \")\n",
    "        \n",
    "#Final Print\n",
    "print(\"________________________\")\n",
    "print(\"Data Retrieval Completed\")\n",
    "print(\"________________________\")"
   ]
  },
  {
   "cell_type": "markdown",
   "metadata": {},
   "source": [
    "### Convert Raw Data to DataFrame\n",
    "* Export the city data into a .csv.\n",
    "* Display the DataFrame"
   ]
  },
  {
   "cell_type": "code",
   "execution_count": 5,
   "metadata": {},
   "outputs": [
    {
     "data": {
      "text/html": [
       "<div>\n",
       "<style scoped>\n",
       "    .dataframe tbody tr th:only-of-type {\n",
       "        vertical-align: middle;\n",
       "    }\n",
       "\n",
       "    .dataframe tbody tr th {\n",
       "        vertical-align: top;\n",
       "    }\n",
       "\n",
       "    .dataframe thead th {\n",
       "        text-align: right;\n",
       "    }\n",
       "</style>\n",
       "<table border=\"1\" class=\"dataframe\">\n",
       "  <thead>\n",
       "    <tr style=\"text-align: right;\">\n",
       "      <th></th>\n",
       "      <th>City</th>\n",
       "      <th>Lat</th>\n",
       "      <th>Lng</th>\n",
       "      <th>Max Temp</th>\n",
       "      <th>Humidity</th>\n",
       "      <th>Cloudiness</th>\n",
       "      <th>Wind Speed</th>\n",
       "      <th>Country</th>\n",
       "      <th>Date</th>\n",
       "    </tr>\n",
       "  </thead>\n",
       "  <tbody>\n",
       "    <tr>\n",
       "      <th>0</th>\n",
       "      <td>Rikitea</td>\n",
       "      <td>-23.12</td>\n",
       "      <td>-134.97</td>\n",
       "      <td>70.30</td>\n",
       "      <td>79</td>\n",
       "      <td>36</td>\n",
       "      <td>11.68</td>\n",
       "      <td>PF</td>\n",
       "      <td>1596689410</td>\n",
       "    </tr>\n",
       "    <tr>\n",
       "      <th>1</th>\n",
       "      <td>Hobart</td>\n",
       "      <td>-42.88</td>\n",
       "      <td>147.33</td>\n",
       "      <td>53.01</td>\n",
       "      <td>57</td>\n",
       "      <td>75</td>\n",
       "      <td>13.87</td>\n",
       "      <td>AU</td>\n",
       "      <td>1596689384</td>\n",
       "    </tr>\n",
       "    <tr>\n",
       "      <th>2</th>\n",
       "      <td>Tiksi</td>\n",
       "      <td>71.69</td>\n",
       "      <td>128.87</td>\n",
       "      <td>53.87</td>\n",
       "      <td>88</td>\n",
       "      <td>100</td>\n",
       "      <td>3.96</td>\n",
       "      <td>RU</td>\n",
       "      <td>1596689465</td>\n",
       "    </tr>\n",
       "    <tr>\n",
       "      <th>3</th>\n",
       "      <td>Quatre Cocos</td>\n",
       "      <td>-20.21</td>\n",
       "      <td>57.76</td>\n",
       "      <td>71.01</td>\n",
       "      <td>56</td>\n",
       "      <td>75</td>\n",
       "      <td>10.29</td>\n",
       "      <td>MU</td>\n",
       "      <td>1596689504</td>\n",
       "    </tr>\n",
       "    <tr>\n",
       "      <th>4</th>\n",
       "      <td>Busselton</td>\n",
       "      <td>-33.65</td>\n",
       "      <td>115.33</td>\n",
       "      <td>60.01</td>\n",
       "      <td>44</td>\n",
       "      <td>5</td>\n",
       "      <td>7.96</td>\n",
       "      <td>AU</td>\n",
       "      <td>1596689412</td>\n",
       "    </tr>\n",
       "  </tbody>\n",
       "</table>\n",
       "</div>"
      ],
      "text/plain": [
       "           City    Lat     Lng  Max Temp  Humidity  Cloudiness  Wind Speed  \\\n",
       "0       Rikitea -23.12 -134.97     70.30        79          36       11.68   \n",
       "1        Hobart -42.88  147.33     53.01        57          75       13.87   \n",
       "2         Tiksi  71.69  128.87     53.87        88         100        3.96   \n",
       "3  Quatre Cocos -20.21   57.76     71.01        56          75       10.29   \n",
       "4     Busselton -33.65  115.33     60.01        44           5        7.96   \n",
       "\n",
       "  Country        Date  \n",
       "0      PF  1596689410  \n",
       "1      AU  1596689384  \n",
       "2      RU  1596689465  \n",
       "3      MU  1596689504  \n",
       "4      AU  1596689412  "
      ]
     },
     "execution_count": 5,
     "metadata": {},
     "output_type": "execute_result"
    }
   ],
   "source": [
    "#Make into a DataFrame\n",
    "city_df=pd.DataFrame({\"City\": city_df, \"Lat\": lat, \"Lng\": long, \n",
    "                      \"Max Temp\": Max_Temp, \"Humidity\": Humidity, \n",
    "                      \"Cloudiness\":Cloudiness, \"Wind Speed\": Wind_Speed,\n",
    "                     \"Country\": Country, \"Date\": Date})\n",
    "\n",
    "city_df.head(5)"
   ]
  },
  {
   "cell_type": "code",
   "execution_count": 6,
   "metadata": {},
   "outputs": [
    {
     "data": {
      "text/plain": [
       "City          566\n",
       "Lat           566\n",
       "Lng           566\n",
       "Max Temp      566\n",
       "Humidity      566\n",
       "Cloudiness    566\n",
       "Wind Speed    566\n",
       "Country       566\n",
       "Date          566\n",
       "dtype: int64"
      ]
     },
     "execution_count": 6,
     "metadata": {},
     "output_type": "execute_result"
    }
   ],
   "source": [
    "#show df\n",
    "city_df.count()"
   ]
  },
  {
   "cell_type": "markdown",
   "metadata": {},
   "source": [
    "## Inspect the data and remove the cities where the humidity > 100%.\n",
    "----\n",
    "Skip this step if there are no cities that have humidity > 100%. "
   ]
  },
  {
   "cell_type": "code",
   "execution_count": 7,
   "metadata": {},
   "outputs": [
    {
     "data": {
      "text/html": [
       "<div>\n",
       "<style scoped>\n",
       "    .dataframe tbody tr th:only-of-type {\n",
       "        vertical-align: middle;\n",
       "    }\n",
       "\n",
       "    .dataframe tbody tr th {\n",
       "        vertical-align: top;\n",
       "    }\n",
       "\n",
       "    .dataframe thead th {\n",
       "        text-align: right;\n",
       "    }\n",
       "</style>\n",
       "<table border=\"1\" class=\"dataframe\">\n",
       "  <thead>\n",
       "    <tr style=\"text-align: right;\">\n",
       "      <th></th>\n",
       "      <th>Lat</th>\n",
       "      <th>Lng</th>\n",
       "      <th>Max Temp</th>\n",
       "      <th>Humidity</th>\n",
       "      <th>Cloudiness</th>\n",
       "      <th>Wind Speed</th>\n",
       "      <th>Date</th>\n",
       "    </tr>\n",
       "  </thead>\n",
       "  <tbody>\n",
       "    <tr>\n",
       "      <th>count</th>\n",
       "      <td>566.000000</td>\n",
       "      <td>566.000000</td>\n",
       "      <td>566.000000</td>\n",
       "      <td>566.000000</td>\n",
       "      <td>566.000000</td>\n",
       "      <td>566.000000</td>\n",
       "      <td>5.660000e+02</td>\n",
       "    </tr>\n",
       "    <tr>\n",
       "      <th>mean</th>\n",
       "      <td>20.550954</td>\n",
       "      <td>19.438286</td>\n",
       "      <td>69.228587</td>\n",
       "      <td>70.257951</td>\n",
       "      <td>47.593640</td>\n",
       "      <td>7.992261</td>\n",
       "      <td>1.596690e+09</td>\n",
       "    </tr>\n",
       "    <tr>\n",
       "      <th>std</th>\n",
       "      <td>33.591015</td>\n",
       "      <td>92.266314</td>\n",
       "      <td>13.636036</td>\n",
       "      <td>20.464359</td>\n",
       "      <td>38.683159</td>\n",
       "      <td>5.235501</td>\n",
       "      <td>1.694833e+02</td>\n",
       "    </tr>\n",
       "    <tr>\n",
       "      <th>min</th>\n",
       "      <td>-54.800000</td>\n",
       "      <td>-179.170000</td>\n",
       "      <td>31.170000</td>\n",
       "      <td>3.000000</td>\n",
       "      <td>0.000000</td>\n",
       "      <td>0.090000</td>\n",
       "      <td>1.596689e+09</td>\n",
       "    </tr>\n",
       "    <tr>\n",
       "      <th>25%</th>\n",
       "      <td>-7.380000</td>\n",
       "      <td>-65.507500</td>\n",
       "      <td>59.392500</td>\n",
       "      <td>58.000000</td>\n",
       "      <td>3.000000</td>\n",
       "      <td>4.012500</td>\n",
       "      <td>1.596689e+09</td>\n",
       "    </tr>\n",
       "    <tr>\n",
       "      <th>50%</th>\n",
       "      <td>24.115000</td>\n",
       "      <td>25.985000</td>\n",
       "      <td>69.845000</td>\n",
       "      <td>74.000000</td>\n",
       "      <td>40.000000</td>\n",
       "      <td>6.930000</td>\n",
       "      <td>1.596690e+09</td>\n",
       "    </tr>\n",
       "    <tr>\n",
       "      <th>75%</th>\n",
       "      <td>49.502500</td>\n",
       "      <td>102.277500</td>\n",
       "      <td>80.385000</td>\n",
       "      <td>86.000000</td>\n",
       "      <td>90.000000</td>\n",
       "      <td>10.637500</td>\n",
       "      <td>1.596690e+09</td>\n",
       "    </tr>\n",
       "    <tr>\n",
       "      <th>max</th>\n",
       "      <td>78.220000</td>\n",
       "      <td>179.320000</td>\n",
       "      <td>99.000000</td>\n",
       "      <td>100.000000</td>\n",
       "      <td>100.000000</td>\n",
       "      <td>33.890000</td>\n",
       "      <td>1.596690e+09</td>\n",
       "    </tr>\n",
       "  </tbody>\n",
       "</table>\n",
       "</div>"
      ],
      "text/plain": [
       "              Lat         Lng    Max Temp    Humidity  Cloudiness  Wind Speed  \\\n",
       "count  566.000000  566.000000  566.000000  566.000000  566.000000  566.000000   \n",
       "mean    20.550954   19.438286   69.228587   70.257951   47.593640    7.992261   \n",
       "std     33.591015   92.266314   13.636036   20.464359   38.683159    5.235501   \n",
       "min    -54.800000 -179.170000   31.170000    3.000000    0.000000    0.090000   \n",
       "25%     -7.380000  -65.507500   59.392500   58.000000    3.000000    4.012500   \n",
       "50%     24.115000   25.985000   69.845000   74.000000   40.000000    6.930000   \n",
       "75%     49.502500  102.277500   80.385000   86.000000   90.000000   10.637500   \n",
       "max     78.220000  179.320000   99.000000  100.000000  100.000000   33.890000   \n",
       "\n",
       "               Date  \n",
       "count  5.660000e+02  \n",
       "mean   1.596690e+09  \n",
       "std    1.694833e+02  \n",
       "min    1.596689e+09  \n",
       "25%    1.596689e+09  \n",
       "50%    1.596690e+09  \n",
       "75%    1.596690e+09  \n",
       "max    1.596690e+09  "
      ]
     },
     "execution_count": 7,
     "metadata": {},
     "output_type": "execute_result"
    }
   ],
   "source": [
    "city_df[\"Humidity\"].max()\n",
    "\n",
    "city_df=city_df[city_df[\"Humidity\"]<= 100]\n",
    "\n",
    "city_df.describe()"
   ]
  },
  {
   "cell_type": "code",
   "execution_count": 8,
   "metadata": {},
   "outputs": [],
   "source": [
    "#  Get the indices of cities that have humidity over 100%.\n"
   ]
  },
  {
   "cell_type": "code",
   "execution_count": 9,
   "metadata": {},
   "outputs": [],
   "source": [
    "# Make a new DataFrame equal to the city data to drop all humidity outliers by index.\n",
    "# Passing \"inplace=False\" will make a copy of the city_data DataFrame, which we call \"clean_city_data\".\n"
   ]
  },
  {
   "cell_type": "code",
   "execution_count": 10,
   "metadata": {},
   "outputs": [],
   "source": [
    "# Extract relevant fields from the data frame\n",
    "\n",
    "\n",
    "# Export the City_Data into a csv\n"
   ]
  },
  {
   "cell_type": "markdown",
   "metadata": {},
   "source": [
    "## Plotting the Data\n",
    "* Use proper labeling of the plots using plot titles (including date of analysis) and axes labels.\n",
    "* Save the plotted figures as .pngs."
   ]
  },
  {
   "cell_type": "markdown",
   "metadata": {},
   "source": [
    "## Latitude vs. Temperature Plot"
   ]
  },
  {
   "cell_type": "code",
   "execution_count": 11,
   "metadata": {
    "scrolled": true
   },
   "outputs": [
    {
     "data": {
      "image/png": "[encoded data removed]",
      "text/plain": [
       "<Figure size 432x288 with 1 Axes>"
      ]
     },
     "metadata": {
      "needs_background": "light"
     },
     "output_type": "display_data"
    }
   ],
   "source": [
    "# Create Latitude vs. Temperature scatter plot\n",
    "plt.scatter(city_df[\"Lat\"], city_df[\"Max Temp\"])\n",
    "\n",
    "# Set labels\n",
    "plt.title(\"City Latitude vs. Max Temperature\")\n",
    "plt.xlabel(\"Laitude\")\n",
    "plt.ylabel(\"Temperature\")\n",
    "\n",
    "# Save .png\n",
    "plt.savefig(\"../Images/City Latitude vs Temperature.png\")"
   ]
  },
  {
   "cell_type": "markdown",
   "metadata": {},
   "source": [
    "## Latitude vs. Humidity Plot"
   ]
  },
  {
   "cell_type": "code",
   "execution_count": 12,
   "metadata": {},
   "outputs": [
    {
     "data": {
      "image/png": "[encoded data removed]",
      "text/plain": [
       "<Figure size 432x288 with 1 Axes>"
      ]
     },
     "metadata": {
      "needs_background": "light"
     },
     "output_type": "display_data"
    }
   ],
   "source": [
    "# Create Latitude vs. Humidity scatter plot\n",
    "plt.scatter(city_df[\"Lat\"], city_df[\"Humidity\"])\n",
    "\n",
    "# Set labels\n",
    "plt.title(\"City Latitude vs. Humidity\")\n",
    "plt.xlabel(\"Laitude\")\n",
    "plt.ylabel(\"Humidity\")\n",
    "\n",
    "# Save .png\n",
    "plt.savefig(\"../Images/City Latitude vs Humidity.png\")"
   ]
  },
  {
   "cell_type": "markdown",
   "metadata": {},
   "source": [
    "## Latitude vs. Cloudiness Plot"
   ]
  },
  {
   "cell_type": "code",
   "execution_count": 13,
   "metadata": {},
   "outputs": [
    {
     "data": {
      "image/png": "[encoded data removed]",
      "text/plain": [
       "<Figure size 432x288 with 1 Axes>"
      ]
     },
     "metadata": {
      "needs_background": "light"
     },
     "output_type": "display_data"
    }
   ],
   "source": [
    "# Create Latitude vs. Cloudiness scatter plot\n",
    "plt.scatter(city_df[\"Lat\"], city_df[\"Cloudiness\"])\n",
    "\n",
    "# Set labels\n",
    "plt.title(\"City Latitude vs. Cloudiness\")\n",
    "plt.xlabel(\"Laitude\")\n",
    "plt.ylabel(\"Cloudiness\")\n",
    "\n",
    "# Save .png\n",
    "plt.savefig(\"../Images/City Latitude vs Cloudiness.png\")"
   ]
  },
  {
   "cell_type": "markdown",
   "metadata": {},
   "source": [
    "## Latitude vs. Wind Speed Plot"
   ]
  },
  {
   "cell_type": "code",
   "execution_count": 14,
   "metadata": {},
   "outputs": [
    {
     "data": {
      "image/png": "[encoded data removed]",
      "text/plain": [
       "<Figure size 432x288 with 1 Axes>"
      ]
     },
     "metadata": {
      "needs_background": "light"
     },
     "output_type": "display_data"
    }
   ],
   "source": [
    "# Create Latitude vs. Wind Speed scatter plot\n",
    "plt.scatter(city_df[\"Lat\"], city_df[\"Wind Speed\"])\n",
    "\n",
    "#Set labels\n",
    "plt.title(\"City Latitude vs. Wind Speed\")\n",
    "plt.xlabel(\"Laitude\")\n",
    "plt.ylabel(\"Wind Speed\")\n",
    "\n",
    "# Save .png\n",
    "plt.savefig(\"../Images/City Latitude vs Wind Speed.png\")"
   ]
  },
  {
   "cell_type": "markdown",
   "metadata": {},
   "source": [
    "## Linear Regression"
   ]
  },
  {
   "cell_type": "code",
   "execution_count": 15,
   "metadata": {},
   "outputs": [],
   "source": [
    "# OPTIONAL: Create a function to create Linear Regression plots\n",
    "def plot(x,y,title,text_coordinates):\n",
    "    (slope, intercept,rvalue, pvalue, stderr)= linregress(x,y)\n",
    "    regress_values= x*slope + intercept\n",
    "    line_eq=f\"y={round(slope,2)}x + {round(intercept,2)}\"\n",
    "    plt.scatter(x, y)\n",
    "    plt.xlabel(\"Latitude\")\n",
    "    plt.plot(x, regress_values, color='red')\n",
    "    plt.show()\n",
    "    print(f\"R Value = {rvalue**2}\")"
   ]
  },
  {
   "cell_type": "code",
   "execution_count": 16,
   "metadata": {},
   "outputs": [],
   "source": [
    "# Create Northern and Southern Hemisphere DataFrames\n",
    "Northern_df=city_df[city_df[\"Lat\"]>0]\n",
    "Southern_df=city_df[city_df[\"Lat\"]<0]"
   ]
  },
  {
   "cell_type": "markdown",
   "metadata": {},
   "source": [
    "####  Northern Hemisphere - Max Temp vs. Latitude Linear Regression"
   ]
  },
  {
   "cell_type": "code",
   "execution_count": 17,
   "metadata": {},
   "outputs": [
    {
     "data": {
      "image/png": "[encoded data removed]",
      "text/plain": [
       "<Figure size 432x288 with 1 Axes>"
      ]
     },
     "metadata": {
      "needs_background": "light"
     },
     "output_type": "display_data"
    },
    {
     "name": "stdout",
     "output_type": "stream",
     "text": [
      "R Value = 0.37774973936437717\n"
     ]
    }
   ],
   "source": [
    "# Set labels\n",
    "plt.title(\"Northern Hemisphere - Max Temp vs. Latitude Linear Regression\")\n",
    "plt.xlabel(\"Latitude\")\n",
    "plt.ylabel(\"Max Temperature\")\n",
    "\n",
    "plot(Northern_df[\"Lat\"], Northern_df[\"Max Temp\"], \"Max Temp\",(20,40))"
   ]
  },
  {
   "cell_type": "markdown",
   "metadata": {},
   "source": [
    "####  Southern Hemisphere - Max Temp vs. Latitude Linear Regression"
   ]
  },
  {
   "cell_type": "code",
   "execution_count": 18,
   "metadata": {},
   "outputs": [
    {
     "data": {
      "image/png": "[encoded data removed]",
      "text/plain": [
       "<Figure size 432x288 with 1 Axes>"
      ]
     },
     "metadata": {
      "needs_background": "light"
     },
     "output_type": "display_data"
    },
    {
     "name": "stdout",
     "output_type": "stream",
     "text": [
      "R Value = 0.5722257891579203\n"
     ]
    }
   ],
   "source": [
    "# Set labels\n",
    "plt.title(\"Southern Hemisphere - Max Temp vs. Latitude Linear Regression\")\n",
    "plt.xlabel(\"Latitude\")\n",
    "plt.ylabel(\"Max Temperature\")\n",
    "\n",
    "#plot data\n",
    "plot(Southern_df[\"Lat\"], Southern_df[\"Max Temp\"], \"Max Temp\",(-60,90))"
   ]
  },
  {
   "cell_type": "markdown",
   "metadata": {},
   "source": [
    "####  Northern Hemisphere - Humidity (%) vs. Latitude Linear Regression"
   ]
  },
  {
   "cell_type": "code",
   "execution_count": 19,
   "metadata": {},
   "outputs": [
    {
     "data": {
      "image/png": "[encoded data removed]",
      "text/plain": [
       "<Figure size 432x288 with 1 Axes>"
      ]
     },
     "metadata": {
      "needs_background": "light"
     },
     "output_type": "display_data"
    },
    {
     "name": "stdout",
     "output_type": "stream",
     "text": [
      "R Value = 0.00740098886141542\n"
     ]
    }
   ],
   "source": [
    "#Set labels\n",
    "plt.title(\"Northern Hemisphere - Humidity (%) vs. Latitude Linear Regression\")\n",
    "plt.xlabel(\"Latitude\")\n",
    "plt.ylabel(\"Humidity\")\n",
    "\n",
    "#plot data\n",
    "plot(Northern_df[\"Lat\"], Northern_df[\"Humidity\"], \"Max Temp\",(60,20))"
   ]
  },
  {
   "cell_type": "markdown",
   "metadata": {},
   "source": [
    "####  Southern Hemisphere - Humidity (%) vs. Latitude Linear Regression"
   ]
  },
  {
   "cell_type": "code",
   "execution_count": 20,
   "metadata": {},
   "outputs": [
    {
     "data": {
      "image/png": "[encoded data removed]",
      "text/plain": [
       "<Figure size 432x288 with 1 Axes>"
      ]
     },
     "metadata": {
      "needs_background": "light"
     },
     "output_type": "display_data"
    },
    {
     "name": "stdout",
     "output_type": "stream",
     "text": [
      "R Value = 0.0006691208066866198\n"
     ]
    }
   ],
   "source": [
    "#Set labels\n",
    "plt.title(\"Southern Hemisphere - Humidity (%) vs. Latitude Linear Regression\")\n",
    "plt.xlabel(\"Latitude\")\n",
    "plt.ylabel(\"Humidity\")\n",
    "\n",
    "#plot data\n",
    "plot(Southern_df[\"Lat\"], Southern_df[\"Humidity\"], \"Max Temp\",(-60,20))"
   ]
  },
  {
   "cell_type": "markdown",
   "metadata": {},
   "source": [
    "####  Northern Hemisphere - Cloudiness (%) vs. Latitude Linear Regression"
   ]
  },
  {
   "cell_type": "code",
   "execution_count": 21,
   "metadata": {},
   "outputs": [
    {
     "data": {
      "image/png": "[encoded data removed]",
      "text/plain": [
       "<Figure size 432x288 with 1 Axes>"
      ]
     },
     "metadata": {
      "needs_background": "light"
     },
     "output_type": "display_data"
    },
    {
     "name": "stdout",
     "output_type": "stream",
     "text": [
      "R Value = 0.006284505527943067\n"
     ]
    }
   ],
   "source": [
    "#Set labels\n",
    "plt.title(\"Northern Hemisphere - Cloudiness (%) vs. Latitude Linear Regression\")\n",
    "plt.xlabel(\"Latitude\")\n",
    "plt.ylabel(\"Cloudiness\")\n",
    "\n",
    "#plot data\n",
    "plot(Northern_df[\"Lat\"], Northern_df[\"Cloudiness\"], \"Max Temp\",(60,35))"
   ]
  },
  {
   "cell_type": "markdown",
   "metadata": {},
   "source": [
    "####  Southern Hemisphere - Cloudiness (%) vs. Latitude Linear Regression"
   ]
  },
  {
   "cell_type": "code",
   "execution_count": 22,
   "metadata": {},
   "outputs": [
    {
     "data": {
      "image/png": "[encoded data removed]",
      "text/plain": [
       "<Figure size 432x288 with 1 Axes>"
      ]
     },
     "metadata": {
      "needs_background": "light"
     },
     "output_type": "display_data"
    },
    {
     "name": "stdout",
     "output_type": "stream",
     "text": [
      "R Value = 0.006541245135699921\n"
     ]
    }
   ],
   "source": [
    "#Set labels\n",
    "plt.title(\"Southern Hemisphere - Cloudiness (%) vs. Latitude Linear Regression\")\n",
    "plt.xlabel(\"Latitude\")\n",
    "plt.ylabel(\"Cloudiness\")\n",
    "\n",
    "#plot data\n",
    "plot(Southern_df[\"Lat\"], Southern_df[\"Cloudiness\"], \"Max Temp\",(-60,30))"
   ]
  },
  {
   "cell_type": "markdown",
   "metadata": {},
   "source": [
    "####  Northern Hemisphere - Wind Speed (mph) vs. Latitude Linear Regression"
   ]
  },
  {
   "cell_type": "code",
   "execution_count": 23,
   "metadata": {},
   "outputs": [
    {
     "data": {
      "image/png": "[encoded data removed]",
      "text/plain": [
       "<Figure size 432x288 with 1 Axes>"
      ]
     },
     "metadata": {
      "needs_background": "light"
     },
     "output_type": "display_data"
    },
    {
     "name": "stdout",
     "output_type": "stream",
     "text": [
      "R Value = 0.0071956232286895586\n"
     ]
    }
   ],
   "source": [
    "#Set labels\n",
    "plt.title(\"Northern Hemisphere - Wind Speed (mph) vs. Latitude Linear Regression\")\n",
    "plt.xlabel(\"Latitude\")\n",
    "plt.ylabel(\"Wind Speed\")\n",
    "\n",
    "#plot data \n",
    "plot(Northern_df[\"Lat\"], Northern_df[\"Wind Speed\"], \"Max Temp\",(10,40))"
   ]
  },
  {
   "cell_type": "markdown",
   "metadata": {},
   "source": [
    "####  Southern Hemisphere - Wind Speed (mph) vs. Latitude Linear Regression"
   ]
  },
  {
   "cell_type": "code",
   "execution_count": 24,
   "metadata": {},
   "outputs": [
    {
     "data": {
      "image/png": "[encoded data removed]",
      "text/plain": [
       "<Figure size 432x288 with 1 Axes>"
      ]
     },
     "metadata": {
      "needs_background": "light"
     },
     "output_type": "display_data"
    },
    {
     "name": "stdout",
     "output_type": "stream",
     "text": [
      "R Value = 0.03523409118570165\n"
     ]
    }
   ],
   "source": [
    "#Set labels\n",
    "plt.title(\"Southern Hemisphere - Wind Speed (mph) vs. Latitude Linear Regression\")\n",
    "plt.xlabel(\"Latitude\")\n",
    "plt.ylabel(\"Wind Speed\")\n",
    "\n",
    "#plot data \n",
    "plot(Southern_df[\"Lat\"], Southern_df[\"Wind Speed\"], \"Max Temp\",(-60,20))"
   ]
  },
  {
   "cell_type": "code",
   "execution_count": null,
   "metadata": {},
   "outputs": [],
   "source": []
  },
  {
   "cell_type": "code",
   "execution_count": null,
   "metadata": {},
   "outputs": [],
   "source": []
  }
 ],
 "metadata": {
  "anaconda-cloud": {},
  "kernel_info": {
   "name": "python3"
  },
  "kernelspec": {
   "display_name": "Python 3",
   "language": "python",
   "name": "python3"
  },
  "language_info": {
   "codemirror_mode": {
    "name": "ipython",
    "version": 3
   },
   "file_extension": ".py",
   "mimetype": "text/x-python",
   "name": "python",
   "nbconvert_exporter": "python",
   "pygments_lexer": "ipython3",
   "version": "3.7.6"
  },
  "latex_envs": {
   "LaTeX_envs_menu_present": true,
   "autoclose": false,
   "autocomplete": true,
   "bibliofile": "biblio.bib",
   "cite_by": "apalike",
   "current_citInitial": 1,
   "eqLabelWithNumbers": true,
   "eqNumInitial": 1,
   "hotkeys": {
    "equation": "Ctrl-E",
    "itemize": "Ctrl-I"
   },
   "labels_anchors": false,
   "latex_user_defs": false,
   "report_style_numbering": false,
   "user_envs_cfg": false
  },
  "nteract": {
   "version": "0.12.3"
  }
 },
 "nbformat": 4,
 "nbformat_minor": 2
}
